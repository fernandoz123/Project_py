{
 "cells": [
  {
   "cell_type": "code",
   "execution_count": 1,
   "id": "edecd2bb-55aa-423e-8528-d320655170d4",
   "metadata": {},
   "outputs": [],
   "source": [
    "import numpy as np"
   ]
  },
  {
   "cell_type": "code",
   "execution_count": 3,
   "id": "3392e7ca-dddb-4ea2-bc29-57a7a79b2d1c",
   "metadata": {},
   "outputs": [
    {
     "data": {
      "text/plain": [
       "(3, 3)"
      ]
     },
     "execution_count": 3,
     "metadata": {},
     "output_type": "execute_result"
    }
   ],
   "source": [
    "from numpy.linalg import inv\n",
    "#Matriz de coeficientes\n",
    "a = np.array([[1,1,1],\n",
    "              [1,2,4],\n",
    "              [1,3,9]])\n",
    "a.shape"
   ]
  },
  {
   "cell_type": "code",
   "execution_count": 4,
   "id": "8d19109e-0b8f-41b3-9c19-dc9e1fecf15d",
   "metadata": {},
   "outputs": [
    {
     "data": {
      "text/plain": [
       "array([ 4,  0, 12])"
      ]
     },
     "execution_count": 4,
     "metadata": {},
     "output_type": "execute_result"
    }
   ],
   "source": [
    "#Matriz de terminos independientes\n",
    "b = np.array([4,0,12])\n",
    "b"
   ]
  },
  {
   "cell_type": "markdown",
   "id": "f9c61bcc-4ed4-4ba1-80ca-37cdc2e5c633",
   "metadata": {},
   "source": [
    "## Formula :  Ax = B"
   ]
  },
  {
   "cell_type": "code",
   "execution_count": 6,
   "id": "b44c3f94-1d32-40c0-9243-820514a04225",
   "metadata": {},
   "outputs": [
    {
     "data": {
      "text/plain": [
       "array([[ 3. , -3. ,  1. ],\n",
       "       [-2.5,  4. , -1.5],\n",
       "       [ 0.5, -1. ,  0.5]])"
      ]
     },
     "execution_count": 6,
     "metadata": {},
     "output_type": "execute_result"
    }
   ],
   "source": [
    "inv(a)"
   ]
  },
  {
   "cell_type": "code",
   "execution_count": 5,
   "id": "22db6403-1f68-4c40-82cf-79815aeb3716",
   "metadata": {},
   "outputs": [
    {
     "data": {
      "text/plain": [
       "array([ 24., -28.,   8.])"
      ]
     },
     "execution_count": 5,
     "metadata": {},
     "output_type": "execute_result"
    }
   ],
   "source": [
    "x = inv(a).dot(b)\n",
    "x"
   ]
  },
  {
   "cell_type": "markdown",
   "id": "806a084b-0794-4b2a-a29b-52cdabf2aaa2",
   "metadata": {},
   "source": [
    "## Combinación Lineal"
   ]
  },
  {
   "cell_type": "markdown",
   "id": "b8a51cfa-12a9-457d-af22-6ac2335f2a15",
   "metadata": {},
   "source": [
    "Una combinación lineal de $x_1,x_2,..., x_n$ tiene la forma :  $a_1x_1 + a_2x_2 + ... + a_nx_n$\n",
    "\n",
    "Una ecuación lienal de $x_1,x_2,..., x_n$ variable tiene la forma : $a_1x_1 + a_2x_2 + ... + a_nx_n = d$  donde $a_1,...,a_n \\in \\mathbb{R}$"
   ]
  },
  {
   "cell_type": "markdown",
   "id": "b9e9b804-5c0d-4756-82dc-6f169382083a",
   "metadata": {},
   "source": [
    "## Sistema de ecuación lineal"
   ]
  },
  {
   "cell_type": "markdown",
   "id": "6572001c-4f1c-450e-a538-57e8ed136d73",
   "metadata": {},
   "source": [
    "$\\frac{1}{4}x + y - z  = 0$ \n",
    "\n",
    "$x + 4y + 2z = 12$\n",
    "\n",
    "$2x - 3y - z = 3$ "
   ]
  },
  {
   "cell_type": "code",
   "execution_count": 9,
   "id": "d920c990-2b75-48dd-b889-bc665333f350",
   "metadata": {},
   "outputs": [],
   "source": [
    "a = np.array([[0.25,1,-1],[1,4,2],[2,-3,-1]]) #matriz de coeficientes\n",
    "b = np.array([0,12,3])  #matriz de terminos independientes"
   ]
  },
  {
   "cell_type": "code",
   "execution_count": 11,
   "id": "18c96fd6-6ac7-4c5e-9c62-f665757f998e",
   "metadata": {},
   "outputs": [
    {
     "data": {
      "text/plain": [
       "array([4., 1., 2.])"
      ]
     },
     "execution_count": 11,
     "metadata": {},
     "output_type": "execute_result"
    }
   ],
   "source": [
    "x = inv(a).dot(b)\n",
    "x"
   ]
  },
  {
   "cell_type": "markdown",
   "id": "0b334c3f-bb0c-4074-bc14-f70836922737",
   "metadata": {},
   "source": [
    "## Rango de una matriz"
   ]
  },
  {
   "cell_type": "markdown",
   "id": "5b5e5ca9-ad80-455f-989b-f56387b20227",
   "metadata": {},
   "source": [
    "Es el mayor de los ordenes de los menores no nulos que podemos encontrar en la matriz"
   ]
  },
  {
   "cell_type": "code",
   "execution_count": 12,
   "id": "5cf3c4e3-3caa-48a9-bfe6-3fd72247bb2a",
   "metadata": {},
   "outputs": [],
   "source": [
    "a = np.array([[1,1,0],[0,1,1],[1,0,1],[5,-1,1]])\n",
    "b = np.array([3,5,4,6])"
   ]
  },
  {
   "cell_type": "code",
   "execution_count": 39,
   "id": "7b338efc-4dcc-48ad-a976-28886217c408",
   "metadata": {},
   "outputs": [
    {
     "data": {
      "text/plain": [
       "3"
      ]
     },
     "execution_count": 39,
     "metadata": {},
     "output_type": "execute_result"
    }
   ],
   "source": [
    "from numpy.linalg import *\n",
    "#Rango de la matriz de coeficientes\n",
    "matrix_rank(a)"
   ]
  },
  {
   "cell_type": "code",
   "execution_count": 37,
   "id": "22e01349-65c2-4030-934d-fe78680059a7",
   "metadata": {},
   "outputs": [
    {
     "data": {
      "text/plain": [
       "array([[ 1.,  1.,  0.,  3.],\n",
       "       [ 0.,  1.,  1.,  5.],\n",
       "       [ 1.,  0.,  1.,  4.],\n",
       "       [ 5., -1.,  1.,  6.]])"
      ]
     },
     "execution_count": 37,
     "metadata": {},
     "output_type": "execute_result"
    }
   ],
   "source": [
    "#Matriz ampliada\n",
    "matrix_ampliado = np.zeros((4,4))\n",
    "for w in range(4):\n",
    "    matrix_ampliado[w] = np.append(a[w],b[w])\n",
    "matrix_ampliado"
   ]
  },
  {
   "cell_type": "code",
   "execution_count": 38,
   "id": "32c6427a-218f-4d5a-a47c-04aaae4af15f",
   "metadata": {},
   "outputs": [
    {
     "data": {
      "text/plain": [
       "3"
      ]
     },
     "execution_count": 38,
     "metadata": {},
     "output_type": "execute_result"
    }
   ],
   "source": [
    "#Rango de la matriz ampliada\n",
    "matrix_rank(matrix_ampliado)"
   ]
  },
  {
   "cell_type": "markdown",
   "id": "3fc9e244-4aad-4b1f-9864-0d2ee2a42c9a",
   "metadata": {},
   "source": [
    "$\\textit{Si el rango de la matriz de coeficiente es igual al rango de la matriz ampliada entonces el sistema es compatible}$\n",
    "\n",
    "$\\textit{Entonces se cumple} :$  $r(A) = r(A|B) = n $ donde n es el numero de incognitas\n",
    "\n",
    "$cs : (1,2,3)$ En ambos casos por lo que ambos sistemas son equivalentes"
   ]
  },
  {
   "cell_type": "code",
   "execution_count": 48,
   "id": "210a0eb0-48ab-4401-ba58-15f43c7dff00",
   "metadata": {},
   "outputs": [
    {
     "ename": "LinAlgError",
     "evalue": "Last 2 dimensions of the array must be square",
     "output_type": "error",
     "traceback": [
      "\u001b[1;31m---------------------------------------------------------------------------\u001b[0m",
      "\u001b[1;31mLinAlgError\u001b[0m                               Traceback (most recent call last)",
      "Cell \u001b[1;32mIn[48], line 3\u001b[0m\n\u001b[0;32m      1\u001b[0m \u001b[38;5;66;03m#Forma escalonada de la matriz ampliada\u001b[39;00m\n\u001b[0;32m      2\u001b[0m \u001b[38;5;66;03m#np.info(np.linalg.solve)\u001b[39;00m\n\u001b[1;32m----> 3\u001b[0m x \u001b[38;5;241m=\u001b[39m \u001b[43mnp\u001b[49m\u001b[38;5;241;43m.\u001b[39;49m\u001b[43mlinalg\u001b[49m\u001b[38;5;241;43m.\u001b[39;49m\u001b[43msolve\u001b[49m\u001b[43m(\u001b[49m\u001b[43ma\u001b[49m\u001b[43m,\u001b[49m\u001b[43mb\u001b[49m\u001b[43m)\u001b[49m\n\u001b[0;32m      4\u001b[0m x\n",
      "File \u001b[1;32mC:\\ProgramData\\anaconda3\\envs\\env_dataPython\\lib\\site-packages\\numpy\\linalg\\linalg.py:396\u001b[0m, in \u001b[0;36msolve\u001b[1;34m(a, b)\u001b[0m\n\u001b[0;32m    394\u001b[0m a, _ \u001b[38;5;241m=\u001b[39m _makearray(a)\n\u001b[0;32m    395\u001b[0m _assert_stacked_2d(a)\n\u001b[1;32m--> 396\u001b[0m \u001b[43m_assert_stacked_square\u001b[49m\u001b[43m(\u001b[49m\u001b[43ma\u001b[49m\u001b[43m)\u001b[49m\n\u001b[0;32m    397\u001b[0m b, wrap \u001b[38;5;241m=\u001b[39m _makearray(b)\n\u001b[0;32m    398\u001b[0m t, result_t \u001b[38;5;241m=\u001b[39m _commonType(a, b)\n",
      "File \u001b[1;32mC:\\ProgramData\\anaconda3\\envs\\env_dataPython\\lib\\site-packages\\numpy\\linalg\\linalg.py:213\u001b[0m, in \u001b[0;36m_assert_stacked_square\u001b[1;34m(*arrays)\u001b[0m\n\u001b[0;32m    211\u001b[0m m, n \u001b[38;5;241m=\u001b[39m a\u001b[38;5;241m.\u001b[39mshape[\u001b[38;5;241m-\u001b[39m\u001b[38;5;241m2\u001b[39m:]\n\u001b[0;32m    212\u001b[0m \u001b[38;5;28;01mif\u001b[39;00m m \u001b[38;5;241m!=\u001b[39m n:\n\u001b[1;32m--> 213\u001b[0m     \u001b[38;5;28;01mraise\u001b[39;00m LinAlgError(\u001b[38;5;124m'\u001b[39m\u001b[38;5;124mLast 2 dimensions of the array must be square\u001b[39m\u001b[38;5;124m'\u001b[39m)\n",
      "\u001b[1;31mLinAlgError\u001b[0m: Last 2 dimensions of the array must be square"
     ]
    }
   ],
   "source": [
    "#Forma escalonada de la matriz ampliada\n",
    "#np.info(np.linalg.solve)\n"
   ]
  },
  {
   "cell_type": "markdown",
   "id": "d29d4170-2fd3-4262-9710-e0292a0fc496",
   "metadata": {},
   "source": [
    "## Factorizaciones triangulares"
   ]
  },
  {
   "cell_type": "code",
   "execution_count": null,
   "id": "a97b617c-6ab7-4321-b70e-f430c42b7ab8",
   "metadata": {},
   "outputs": [],
   "source": []
  }
 ],
 "metadata": {
  "kernelspec": {
   "display_name": "Python 3 (Intel® oneAPI 2024.1)",
   "language": "python",
   "name": "c009-intel_distribution_of_python_3_oneapi-beta05-python-2024.1"
  },
  "language_info": {
   "codemirror_mode": {
    "name": "ipython",
    "version": 3
   },
   "file_extension": ".py",
   "mimetype": "text/x-python",
   "name": "python",
   "nbconvert_exporter": "python",
   "pygments_lexer": "ipython3",
   "version": "3.9.18"
  }
 },
 "nbformat": 4,
 "nbformat_minor": 5
}
