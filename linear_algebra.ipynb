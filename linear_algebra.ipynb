{
 "cells": [
  {
   "cell_type": "code",
   "execution_count": 1,
   "id": "edecd2bb-55aa-423e-8528-d320655170d4",
   "metadata": {},
   "outputs": [],
   "source": [
    "import numpy as np"
   ]
  },
  {
   "cell_type": "code",
   "execution_count": 3,
   "id": "3392e7ca-dddb-4ea2-bc29-57a7a79b2d1c",
   "metadata": {},
   "outputs": [
    {
     "data": {
      "text/plain": [
       "(3, 3)"
      ]
     },
     "execution_count": 3,
     "metadata": {},
     "output_type": "execute_result"
    }
   ],
   "source": [
    "from numpy.linalg import inv\n",
    "#Matriz de coeficientes\n",
    "a = np.array([[1,1,1],\n",
    "              [1,2,4],\n",
    "              [1,3,9]])\n",
    "a.shape"
   ]
  },
  {
   "cell_type": "code",
   "execution_count": 4,
   "id": "8d19109e-0b8f-41b3-9c19-dc9e1fecf15d",
   "metadata": {},
   "outputs": [
    {
     "data": {
      "text/plain": [
       "array([ 4,  0, 12])"
      ]
     },
     "execution_count": 4,
     "metadata": {},
     "output_type": "execute_result"
    }
   ],
   "source": [
    "#Matriz de terminos independientes\n",
    "b = np.array([4,0,12])\n",
    "b"
   ]
  },
  {
   "cell_type": "markdown",
   "id": "f9c61bcc-4ed4-4ba1-80ca-37cdc2e5c633",
   "metadata": {},
   "source": [
    "## Formula :  Ax = B"
   ]
  },
  {
   "cell_type": "code",
   "execution_count": 6,
   "id": "b44c3f94-1d32-40c0-9243-820514a04225",
   "metadata": {},
   "outputs": [
    {
     "data": {
      "text/plain": [
       "array([[ 3. , -3. ,  1. ],\n",
       "       [-2.5,  4. , -1.5],\n",
       "       [ 0.5, -1. ,  0.5]])"
      ]
     },
     "execution_count": 6,
     "metadata": {},
     "output_type": "execute_result"
    }
   ],
   "source": [
    "inv(a)"
   ]
  },
  {
   "cell_type": "code",
   "execution_count": 5,
   "id": "22db6403-1f68-4c40-82cf-79815aeb3716",
   "metadata": {},
   "outputs": [
    {
     "data": {
      "text/plain": [
       "array([ 24., -28.,   8.])"
      ]
     },
     "execution_count": 5,
     "metadata": {},
     "output_type": "execute_result"
    }
   ],
   "source": [
    "x = inv(a).dot(b)\n",
    "x"
   ]
  },
  {
   "cell_type": "markdown",
   "id": "806a084b-0794-4b2a-a29b-52cdabf2aaa2",
   "metadata": {},
   "source": [
    "## Combinación Lineal"
   ]
  },
  {
   "cell_type": "markdown",
   "id": "b8a51cfa-12a9-457d-af22-6ac2335f2a15",
   "metadata": {},
   "source": [
    "Una combinación lineal de $x_1,x_2,..., x_n$ tiene la forma :  $a_1x_1 + a_2x_2 + ... + a_nx_n$\n",
    "\n",
    "Una ecuación lienal de $x_1,x_2,..., x_n$ variable tiene la forma : $a_1x_1 + a_2x_2 + ... + a_nx_n = d$  donde $a_1,...,a_n \\in \\mathbb{R}$"
   ]
  },
  {
   "cell_type": "markdown",
   "id": "b9e9b804-5c0d-4756-82dc-6f169382083a",
   "metadata": {},
   "source": [
    "## Sistema de ecuación lineal"
   ]
  },
  {
   "cell_type": "markdown",
   "id": "89f61f1d-a9e0-4ceb-8733-584ff47f3769",
   "metadata": {},
   "source": [
    "\n",
    "$\\left \\{\n",
    "\\begin{array}{l}\n",
    "\\frac{1}{4}x + y - z  = 0 \\\\\n",
    "x + 4y + 2z = 12 \\\\\n",
    "2x - 3y - z = 3\n",
    "\\end{array}\n",
    "\\right.$\n"
   ]
  },
  {
   "cell_type": "code",
   "execution_count": 10,
   "id": "d920c990-2b75-48dd-b889-bc665333f350",
   "metadata": {},
   "outputs": [],
   "source": [
    "a = np.array([[0.25,1,-1],[1,4,2],[2,-3,-1]]) #matriz de coeficientes\n",
    "b = np.array([0,12,3])  #matriz de terminos independientes"
   ]
  },
  {
   "cell_type": "code",
   "execution_count": 15,
   "id": "063f7c5d-96c1-481a-ad5c-4b51a44cd853",
   "metadata": {},
   "outputs": [
    {
     "data": {
      "text/plain": [
       "array([[ 0.12121212,  0.24242424,  0.36363636],\n",
       "       [ 0.3030303 ,  0.10606061, -0.09090909],\n",
       "       [-0.66666667,  0.16666667, -0.        ]])"
      ]
     },
     "execution_count": 15,
     "metadata": {},
     "output_type": "execute_result"
    }
   ],
   "source": [
    "inv(a)"
   ]
  },
  {
   "cell_type": "code",
   "execution_count": 16,
   "id": "18c96fd6-6ac7-4c5e-9c62-f665757f998e",
   "metadata": {},
   "outputs": [
    {
     "data": {
      "text/plain": [
       "array([4., 1., 2.])"
      ]
     },
     "execution_count": 16,
     "metadata": {},
     "output_type": "execute_result"
    }
   ],
   "source": [
    "x = inv(a).dot(b)\n",
    "x"
   ]
  },
  {
   "cell_type": "markdown",
   "id": "0b334c3f-bb0c-4074-bc14-f70836922737",
   "metadata": {},
   "source": [
    "## Rango de una matriz"
   ]
  },
  {
   "cell_type": "markdown",
   "id": "5b5e5ca9-ad80-455f-989b-f56387b20227",
   "metadata": {},
   "source": [
    "Es el mayor de los ordenes de los menores no nulos que podemos encontrar en la matriz"
   ]
  },
  {
   "cell_type": "code",
   "execution_count": 35,
   "id": "5cf3c4e3-3caa-48a9-bfe6-3fd72247bb2a",
   "metadata": {},
   "outputs": [],
   "source": [
    "a = np.array([[3,4,-2],[2,-3,4],[1,-2,3]])\n",
    "b = np.array([0,11,7])"
   ]
  },
  {
   "cell_type": "code",
   "execution_count": 36,
   "id": "7b338efc-4dcc-48ad-a976-28886217c408",
   "metadata": {},
   "outputs": [
    {
     "data": {
      "text/plain": [
       "3"
      ]
     },
     "execution_count": 36,
     "metadata": {},
     "output_type": "execute_result"
    }
   ],
   "source": [
    "from numpy.linalg import *\n",
    "#Rango de la matriz de coeficientes\n",
    "matrix_rank(a)"
   ]
  },
  {
   "cell_type": "code",
   "execution_count": 37,
   "id": "ef91e5cd-a96b-4cfc-9618-5c3e8048c6a3",
   "metadata": {},
   "outputs": [
    {
     "data": {
      "text/plain": [
       "(3, 3)"
      ]
     },
     "execution_count": 37,
     "metadata": {},
     "output_type": "execute_result"
    }
   ],
   "source": [
    "a.shape"
   ]
  },
  {
   "cell_type": "code",
   "execution_count": 38,
   "id": "22e01349-65c2-4030-934d-fe78680059a7",
   "metadata": {},
   "outputs": [
    {
     "data": {
      "text/plain": [
       "array([[ 3.,  4., -2.,  0.],\n",
       "       [ 2., -3.,  4., 11.],\n",
       "       [ 1., -2.,  3.,  7.]])"
      ]
     },
     "execution_count": 38,
     "metadata": {},
     "output_type": "execute_result"
    }
   ],
   "source": [
    "#Matriz ampliada\n",
    "matrix_ampliado = np.zeros((3,4))\n",
    "for w in range(3):\n",
    "    matrix_ampliado[w] = np.append(a[w],b[w])\n",
    "matrix_ampliado"
   ]
  },
  {
   "cell_type": "code",
   "execution_count": 39,
   "id": "32c6427a-218f-4d5a-a47c-04aaae4af15f",
   "metadata": {},
   "outputs": [
    {
     "data": {
      "text/plain": [
       "3"
      ]
     },
     "execution_count": 39,
     "metadata": {},
     "output_type": "execute_result"
    }
   ],
   "source": [
    "#Rango de la matriz ampliada\n",
    "matrix_rank(matrix_ampliado)"
   ]
  },
  {
   "cell_type": "markdown",
   "id": "3fc9e244-4aad-4b1f-9864-0d2ee2a42c9a",
   "metadata": {},
   "source": [
    "$\\textit{Si el rango de la matriz de coeficiente es igual al rango de la matriz ampliada entonces el sistema es compatible}$\n",
    "\n",
    "$\\textit{Entonces se cumple} :$  $r(A) = r(A|B) = n $ donde n es el numero de incognitas\n",
    "\n",
    "$c.s : \\{(2,-1,1)\\}$ En ambos casos por lo que ambos sistemas son equivalentes"
   ]
  },
  {
   "cell_type": "code",
   "execution_count": 42,
   "id": "210a0eb0-48ab-4401-ba58-15f43c7dff00",
   "metadata": {},
   "outputs": [
    {
     "data": {
      "text/plain": [
       "array([ 2., -1.,  1.])"
      ]
     },
     "execution_count": 42,
     "metadata": {},
     "output_type": "execute_result"
    }
   ],
   "source": [
    "#Forma escalonada de la matriz ampliada\n",
    "#np.info(np.linalg.solve)\n",
    "x  = np.linalg.solve(a,b)\n",
    "x"
   ]
  },
  {
   "cell_type": "markdown",
   "id": "d29d4170-2fd3-4262-9710-e0292a0fc496",
   "metadata": {},
   "source": [
    "## Factorizaciones triangulares\n",
    "Sea $A \\in M_{4}(\\mathbb{R})$ donde \n",
    "\n",
    "\\begin{bmatrix} \n",
    "1 & -1 & 2 & 4 \\\\ \n",
    "-2 & 0 & 5 & 5 \\\\ \n",
    "1 & 1 & 2 & -3 \\\\\n",
    "3 & 3 & 4 & 0\n",
    "\\end{bmatrix}"
   ]
  },
  {
   "cell_type": "code",
   "execution_count": 51,
   "id": "a97b617c-6ab7-4321-b70e-f430c42b7ab8",
   "metadata": {},
   "outputs": [
    {
     "data": {
      "text/plain": [
       "array([[ 1, -1,  2,  4],\n",
       "       [-2,  0,  5,  5],\n",
       "       [ 1,  1,  2, -3],\n",
       "       [ 3,  3,  4,  0]])"
      ]
     },
     "execution_count": 51,
     "metadata": {},
     "output_type": "execute_result"
    }
   ],
   "source": [
    "#Creando la matriz A\n",
    "a = np.array([[1,-1,2,4],[-2,0,5,5],[1,1,2,-3],[3,3,4,0]])\n",
    "a"
   ]
  },
  {
   "cell_type": "code",
   "execution_count": 53,
   "id": "207b2139-1b6f-42ed-b569-20072e9b946b",
   "metadata": {},
   "outputs": [],
   "source": [
    "from scipy.linalg import lu\n",
    "#Matriz triangular superior equivalente\n",
    "p,l,u = lu(a)"
   ]
  },
  {
   "cell_type": "code",
   "execution_count": 56,
   "id": "707f63c7-cb78-430b-9be2-108f301355fc",
   "metadata": {},
   "outputs": [
    {
     "data": {
      "text/plain": [
       "array([[ 3.        ,  3.        ,  4.        ,  0.        ],\n",
       "       [ 0.        ,  2.        ,  7.66666667,  5.        ],\n",
       "       [ 0.        ,  0.        ,  8.33333333,  9.        ],\n",
       "       [ 0.        ,  0.        ,  0.        , -3.72      ]])"
      ]
     },
     "execution_count": 56,
     "metadata": {},
     "output_type": "execute_result"
    }
   ],
   "source": [
    "u"
   ]
  },
  {
   "cell_type": "code",
   "execution_count": 60,
   "id": "29bf4e1e-f087-4ccf-b684-65c621695bf4",
   "metadata": {},
   "outputs": [
    {
     "data": {
      "text/plain": [
       "array([[ 3.33333333e-01, -1.00000000e+00,  1.00000000e+00,\n",
       "         0.00000000e+00],\n",
       "       [-6.66666667e-01,  1.00000000e+00,  0.00000000e+00,\n",
       "         0.00000000e+00],\n",
       "       [ 3.33333333e-01,  2.77555756e-17,  8.00000000e-02,\n",
       "         1.00000000e+00],\n",
       "       [ 1.00000000e+00,  0.00000000e+00,  0.00000000e+00,\n",
       "         0.00000000e+00]])"
      ]
     },
     "execution_count": 60,
     "metadata": {},
     "output_type": "execute_result"
    }
   ],
   "source": [
    "#Matriz triangular inferior equivalente\n",
    "np.dot(p,l)"
   ]
  },
  {
   "cell_type": "markdown",
   "id": "cb9b648a-446c-4488-9edc-0b24a5ec225f",
   "metadata": {},
   "source": [
    "## Formula: A = LU\n",
    "Donde $L$ es la matriz triangular inferior y $U$ es la matriz triangular superior"
   ]
  },
  {
   "cell_type": "code",
   "execution_count": 61,
   "id": "cda66fb3-ac4f-49ad-8c90-48568fad16ff",
   "metadata": {},
   "outputs": [
    {
     "data": {
      "text/plain": [
       "True"
      ]
     },
     "execution_count": 61,
     "metadata": {},
     "output_type": "execute_result"
    }
   ],
   "source": [
    "np.allclose(a,p@l@u)"
   ]
  },
  {
   "cell_type": "code",
   "execution_count": null,
   "id": "31cac826-0ce3-4996-9487-ce402883987e",
   "metadata": {},
   "outputs": [],
   "source": []
  }
 ],
 "metadata": {
  "kernelspec": {
   "display_name": "Python 3 (Intel® oneAPI 2024.1)",
   "language": "python",
   "name": "c009-intel_distribution_of_python_3_oneapi-beta05-python-2024.1"
  },
  "language_info": {
   "codemirror_mode": {
    "name": "ipython",
    "version": 3
   },
   "file_extension": ".py",
   "mimetype": "text/x-python",
   "name": "python",
   "nbconvert_exporter": "python",
   "pygments_lexer": "ipython3",
   "version": "3.9.18"
  }
 },
 "nbformat": 4,
 "nbformat_minor": 5
}
